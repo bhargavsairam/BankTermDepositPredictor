{
 "cells": [
  {
   "cell_type": "code",
   "execution_count": 59,
   "metadata": {},
   "outputs": [],
   "source": [
    "import pandas as pd\n",
    "import numpy as np\n",
    "from sklearn.model_selection import train_test_split\n",
    "from sklearn.metrics import f1_score, accuracy_score, classification_report, confusion_matrix\n",
    "from sklearn.model_selection import GridSearchCV\n",
    "from sklearn.metrics import make_scorer\n",
    "from sklearn.tree import DecisionTreeClassifier\n",
    "from sklearn.svm import SVC\n",
    "from imblearn.under_sampling import RandomUnderSampler\n",
    "from imblearn.pipeline import Pipeline"
   ]
  },
  {
   "cell_type": "markdown",
   "metadata": {},
   "source": [
    "## Reading preprocessed data file "
   ]
  },
  {
   "cell_type": "code",
   "execution_count": 3,
   "metadata": {},
   "outputs": [
    {
     "data": {
      "text/plain": [
       "(41176, 18)"
      ]
     },
     "execution_count": 3,
     "metadata": {},
     "output_type": "execute_result"
    }
   ],
   "source": [
    "data_model= pd.read_csv('Preprocessed_data.csv')\n",
    "data_model.shape"
   ]
  },
  {
   "cell_type": "code",
   "execution_count": 5,
   "metadata": {},
   "outputs": [
    {
     "name": "stdout",
     "output_type": "stream",
     "text": [
      "Train Data (28823, 17) (28823,)\n",
      "Test Data (12353, 17) (12353,)\n"
     ]
    }
   ],
   "source": [
    "X_train, X_test, y_train, y_test=train_test_split(data_model.drop('y',axis=1), data_model['y'],test_size=0.3,\n",
    "                                                  stratify=data_model['y'],random_state=42)\n",
    "print('Train Data',X_train.shape,y_train.shape)\n",
    "print('Test Data',X_test.shape,y_test.shape)"
   ]
  },
  {
   "cell_type": "markdown",
   "metadata": {},
   "source": [
    "### Logistic Regression"
   ]
  },
  {
   "cell_type": "code",
   "execution_count": 19,
   "metadata": {},
   "outputs": [
    {
     "name": "stdout",
     "output_type": "stream",
     "text": [
      "Accuracy_Score 0.7789201003804744\n",
      "Confusion Matrix\n",
      "Predicted     0     1    All\n",
      "Actual                      \n",
      "0          8652  2309  10961\n",
      "1           422   970   1392\n",
      "All        9074  3279  12353\n",
      "Classification Report\n",
      "              precision    recall  f1-score   support\n",
      "\n",
      "           0       0.95      0.79      0.86     10961\n",
      "           1       0.30      0.70      0.42      1392\n",
      "\n",
      "    accuracy                           0.78     12353\n",
      "   macro avg       0.62      0.74      0.64     12353\n",
      "weighted avg       0.88      0.78      0.81     12353\n",
      "\n"
     ]
    }
   ],
   "source": [
    "from sklearn.linear_model import LogisticRegression\n",
    "\n",
    "\n",
    "def print_metrics_by_model(model, x_test,y_test):\n",
    "    print('Accuracy_Score', accuracy_score(y_test,model.predict(x_test)))\n",
    "    print('Confusion Matrix')\n",
    "    print(pd.crosstab(y_test,model.predict(x_test),rownames=['Actual'],colnames=['Predicted'],margins=True))\n",
    "    print(\"Classification Report\")\n",
    "    print(classification_report(y_test,model.predict(x_test)))\n",
    "\n",
    "    \n",
    "mod_log= LogisticRegression(max_iter=3000,C=1, penalty='l1',class_weight='balanced',solver='liblinear')\n",
    "mod_log.fit(X_train,y_train)\n",
    "print_metrics_by_model(mod_log,X_test,y_test)"
   ]
  },
  {
   "cell_type": "markdown",
   "metadata": {},
   "source": [
    "* HyperParameter Finetuning for C and Solver parameters using \n",
    "GridSearchCV"
   ]
  },
  {
   "cell_type": "code",
   "execution_count": 22,
   "metadata": {
    "scrolled": true
   },
   "outputs": [
    {
     "name": "stdout",
     "output_type": "stream",
     "text": [
      "Fitting 5 folds for each of 8 candidates, totalling 40 fits\n",
      "Confusion Matrix on Cross Validation Set\n",
      "Predicted     0     1   All\n",
      "Actual                     \n",
      "0          3823  1293  5116\n",
      "1           220   429   649\n",
      "All        4043  1722  5765\n",
      "[CV 1/5] END .........C=0.001, solver=liblinear;, score=0.362 total time=   0.0s\n",
      "Confusion Matrix on Cross Validation Set\n",
      "Predicted     0     1   All\n",
      "Actual                     \n",
      "0          3807  1308  5115\n",
      "1           215   435   650\n",
      "All        4022  1743  5765\n",
      "[CV 2/5] END .........C=0.001, solver=liblinear;, score=0.364 total time=   0.0s\n",
      "Confusion Matrix on Cross Validation Set\n",
      "Predicted     0     1   All\n",
      "Actual                     \n",
      "0          3826  1289  5115\n",
      "1           222   428   650\n",
      "All        4048  1717  5765\n",
      "[CV 3/5] END .........C=0.001, solver=liblinear;, score=0.362 total time=   0.0s\n",
      "Confusion Matrix on Cross Validation Set\n",
      "Predicted     0     1   All\n",
      "Actual                     \n",
      "0          3827  1288  5115\n",
      "1           203   446   649\n",
      "All        4030  1734  5764\n",
      "[CV 4/5] END .........C=0.001, solver=liblinear;, score=0.374 total time=   0.0s\n",
      "Confusion Matrix on Cross Validation Set\n",
      "Predicted     0     1   All\n",
      "Actual                     \n",
      "0          3886  1229  5115\n",
      "1           208   441   649\n",
      "All        4094  1670  5764\n",
      "[CV 5/5] END .........C=0.001, solver=liblinear;, score=0.380 total time=   0.0s\n",
      "Confusion Matrix on Cross Validation Set\n",
      "Predicted     0     1   All\n",
      "Actual                     \n",
      "0          3722  1394  5116\n",
      "1           200   449   649\n",
      "All        3922  1843  5765\n",
      "[CV 1/5] END .............C=0.001, solver=lbfgs;, score=0.360 total time=   0.0s\n",
      "Confusion Matrix on Cross Validation Set\n",
      "Predicted     0     1   All\n",
      "Actual                     \n",
      "0          3736  1379  5115\n",
      "1           199   451   650\n",
      "All        3935  1830  5765\n",
      "[CV 2/5] END .............C=0.001, solver=lbfgs;, score=0.364 total time=   0.0s\n",
      "Confusion Matrix on Cross Validation Set\n",
      "Predicted     0     1   All\n",
      "Actual                     \n",
      "0          3756  1359  5115\n",
      "1           210   440   650\n",
      "All        3966  1799  5765\n",
      "[CV 3/5] END .............C=0.001, solver=lbfgs;, score=0.359 total time=   0.0s\n",
      "Confusion Matrix on Cross Validation Set\n",
      "Predicted     0     1   All\n",
      "Actual                     \n",
      "0          3760  1355  5115\n",
      "1           197   452   649\n",
      "All        3957  1807  5764\n",
      "[CV 4/5] END .............C=0.001, solver=lbfgs;, score=0.368 total time=   0.0s\n",
      "Confusion Matrix on Cross Validation Set\n",
      "Predicted     0     1   All\n",
      "Actual                     \n",
      "0          3808  1307  5115\n",
      "1           202   447   649\n",
      "All        4010  1754  5764\n",
      "[CV 5/5] END .............C=0.001, solver=lbfgs;, score=0.372 total time=   0.0s\n",
      "Confusion Matrix on Cross Validation Set\n",
      "Predicted     0     1   All\n",
      "Actual                     \n",
      "0          3934  1182  5116\n",
      "1           217   432   649\n",
      "All        4151  1614  5765\n",
      "[CV 1/5] END ..........C=0.01, solver=liblinear;, score=0.382 total time=   0.0s\n",
      "Confusion Matrix on Cross Validation Set\n",
      "Predicted     0     1   All\n",
      "Actual                     \n",
      "0          3918  1197  5115\n",
      "1           213   437   650\n",
      "All        4131  1634  5765\n",
      "[CV 2/5] END ..........C=0.01, solver=liblinear;, score=0.383 total time=   0.0s\n",
      "Confusion Matrix on Cross Validation Set\n",
      "Predicted     0     1   All\n",
      "Actual                     \n",
      "0          3936  1179  5115\n",
      "1           220   430   650\n",
      "All        4156  1609  5765\n",
      "[CV 3/5] END ..........C=0.01, solver=liblinear;, score=0.381 total time=   0.0s\n",
      "Confusion Matrix on Cross Validation Set\n",
      "Predicted     0     1   All\n",
      "Actual                     \n",
      "0          3949  1166  5115\n",
      "1           205   444   649\n",
      "All        4154  1610  5764\n",
      "[CV 4/5] END ..........C=0.01, solver=liblinear;, score=0.393 total time=   0.0s\n",
      "Confusion Matrix on Cross Validation Set\n",
      "Predicted     0     1   All\n",
      "Actual                     \n",
      "0          3958  1157  5115\n",
      "1           212   437   649\n",
      "All        4170  1594  5764\n",
      "[CV 5/5] END ..........C=0.01, solver=liblinear;, score=0.390 total time=   0.0s\n",
      "Confusion Matrix on Cross Validation Set\n",
      "Predicted     0     1   All\n",
      "Actual                     \n",
      "0          3899  1217  5116\n",
      "1           213   436   649\n",
      "All        4112  1653  5765\n",
      "[CV 1/5] END ..............C=0.01, solver=lbfgs;, score=0.379 total time=   0.2s\n",
      "Confusion Matrix on Cross Validation Set\n",
      "Predicted     0     1   All\n",
      "Actual                     \n",
      "0          3915  1200  5115\n",
      "1           211   439   650\n",
      "All        4126  1639  5765\n",
      "[CV 2/5] END ..............C=0.01, solver=lbfgs;, score=0.384 total time=   0.2s\n",
      "Confusion Matrix on Cross Validation Set\n",
      "Predicted     0     1   All\n",
      "Actual                     \n",
      "0          3917  1198  5115\n",
      "1           217   433   650\n",
      "All        4134  1631  5765\n",
      "[CV 3/5] END ..............C=0.01, solver=lbfgs;, score=0.380 total time=   0.2s\n",
      "Confusion Matrix on Cross Validation Set\n",
      "Predicted     0     1   All\n",
      "Actual                     \n",
      "0          3939  1176  5115\n",
      "1           206   443   649\n",
      "All        4145  1619  5764\n",
      "[CV 4/5] END ..............C=0.01, solver=lbfgs;, score=0.391 total time=   0.2s\n",
      "Confusion Matrix on Cross Validation Set\n",
      "Predicted     0     1   All\n",
      "Actual                     \n",
      "0          3950  1165  5115\n",
      "1           212   437   649\n",
      "All        4162  1602  5764\n",
      "[CV 5/5] END ..............C=0.01, solver=lbfgs;, score=0.388 total time=   0.1s\n",
      "Confusion Matrix on Cross Validation Set\n",
      "Predicted     0     1   All\n",
      "Actual                     \n",
      "0          4000  1116  5116\n",
      "1           228   421   649\n",
      "All        4228  1537  5765\n",
      "[CV 1/5] END ...........C=0.1, solver=liblinear;, score=0.385 total time=   0.0s\n",
      "Confusion Matrix on Cross Validation Set\n",
      "Predicted     0     1   All\n",
      "Actual                     \n",
      "0          4008  1107  5115\n",
      "1           217   433   650\n",
      "All        4225  1540  5765\n",
      "[CV 2/5] END ...........C=0.1, solver=liblinear;, score=0.395 total time=   0.0s\n",
      "Confusion Matrix on Cross Validation Set\n",
      "Predicted     0     1   All\n",
      "Actual                     \n",
      "0          4007  1108  5115\n",
      "1           224   426   650\n",
      "All        4231  1534  5765\n",
      "[CV 3/5] END ...........C=0.1, solver=liblinear;, score=0.390 total time=   0.0s\n",
      "Confusion Matrix on Cross Validation Set\n",
      "Predicted     0     1   All\n",
      "Actual                     \n",
      "0          4027  1088  5115\n",
      "1           204   445   649\n",
      "All        4231  1533  5764\n",
      "[CV 4/5] END ...........C=0.1, solver=liblinear;, score=0.408 total time=   0.0s\n",
      "Confusion Matrix on Cross Validation Set\n",
      "Predicted     0     1   All\n",
      "Actual                     \n",
      "0          4045  1070  5115\n",
      "1           211   438   649\n",
      "All        4256  1508  5764\n",
      "[CV 5/5] END ...........C=0.1, solver=liblinear;, score=0.406 total time=   0.0s\n",
      "Confusion Matrix on Cross Validation Set\n",
      "Predicted     0     1   All\n",
      "Actual                     \n",
      "0          4003  1113  5116\n",
      "1           228   421   649\n",
      "All        4231  1534  5765\n",
      "[CV 1/5] END ...............C=0.1, solver=lbfgs;, score=0.386 total time=   0.4s\n",
      "Confusion Matrix on Cross Validation Set\n",
      "Predicted     0     1   All\n",
      "Actual                     \n",
      "0          4011  1104  5115\n",
      "1           217   433   650\n",
      "All        4228  1537  5765\n",
      "[CV 2/5] END ...............C=0.1, solver=lbfgs;, score=0.396 total time=   0.3s\n",
      "Confusion Matrix on Cross Validation Set\n",
      "Predicted     0     1   All\n",
      "Actual                     \n",
      "0          4006  1109  5115\n",
      "1           224   426   650\n",
      "All        4230  1535  5765\n",
      "[CV 3/5] END ...............C=0.1, solver=lbfgs;, score=0.390 total time=   0.3s\n",
      "Confusion Matrix on Cross Validation Set\n",
      "Predicted     0     1   All\n",
      "Actual                     \n",
      "0          4018  1097  5115\n",
      "1           205   444   649\n",
      "All        4223  1541  5764\n",
      "[CV 4/5] END ...............C=0.1, solver=lbfgs;, score=0.405 total time=   0.5s\n",
      "Confusion Matrix on Cross Validation Set\n",
      "Predicted     0     1   All\n",
      "Actual                     \n",
      "0          4043  1072  5115\n",
      "1           211   438   649\n",
      "All        4254  1510  5764\n",
      "[CV 5/5] END ...............C=0.1, solver=lbfgs;, score=0.406 total time=   0.4s\n",
      "Confusion Matrix on Cross Validation Set\n",
      "Predicted     0     1   All\n",
      "Actual                     \n",
      "0          4013  1103  5116\n",
      "1           230   419   649\n",
      "All        4243  1522  5765\n",
      "[CV 1/5] END .............C=1, solver=liblinear;, score=0.386 total time=   0.0s\n",
      "Confusion Matrix on Cross Validation Set\n",
      "Predicted     0     1   All\n",
      "Actual                     \n",
      "0          4017  1098  5115\n",
      "1           218   432   650\n",
      "All        4235  1530  5765\n",
      "[CV 2/5] END .............C=1, solver=liblinear;, score=0.396 total time=   0.0s\n",
      "Confusion Matrix on Cross Validation Set\n",
      "Predicted     0     1   All\n",
      "Actual                     \n",
      "0          4029  1086  5115\n",
      "1           225   425   650\n",
      "All        4254  1511  5765\n",
      "[CV 3/5] END .............C=1, solver=liblinear;, score=0.393 total time=   0.0s\n",
      "Confusion Matrix on Cross Validation Set\n"
     ]
    },
    {
     "name": "stdout",
     "output_type": "stream",
     "text": [
      "Predicted     0     1   All\n",
      "Actual                     \n",
      "0          4048  1067  5115\n",
      "1           211   438   649\n",
      "All        4259  1505  5764\n",
      "[CV 4/5] END .............C=1, solver=liblinear;, score=0.407 total time=   0.0s\n",
      "Confusion Matrix on Cross Validation Set\n",
      "Predicted     0     1   All\n",
      "Actual                     \n",
      "0          4069  1046  5115\n",
      "1           212   437   649\n",
      "All        4281  1483  5764\n",
      "[CV 5/5] END .............C=1, solver=liblinear;, score=0.410 total time=   0.0s\n",
      "Confusion Matrix on Cross Validation Set\n",
      "Predicted     0     1   All\n",
      "Actual                     \n",
      "0          4012  1104  5116\n",
      "1           230   419   649\n",
      "All        4242  1523  5765\n",
      "[CV 1/5] END .................C=1, solver=lbfgs;, score=0.386 total time=   0.4s\n",
      "Confusion Matrix on Cross Validation Set\n",
      "Predicted     0     1   All\n",
      "Actual                     \n",
      "0          4020  1095  5115\n",
      "1           219   431   650\n",
      "All        4239  1526  5765\n",
      "[CV 2/5] END .................C=1, solver=lbfgs;, score=0.396 total time=   0.6s\n",
      "Confusion Matrix on Cross Validation Set\n",
      "Predicted     0     1   All\n",
      "Actual                     \n",
      "0          4027  1088  5115\n",
      "1           225   425   650\n",
      "All        4252  1513  5765\n",
      "[CV 3/5] END .................C=1, solver=lbfgs;, score=0.393 total time=   0.4s\n",
      "Confusion Matrix on Cross Validation Set\n",
      "Predicted     0     1   All\n",
      "Actual                     \n",
      "0          4047  1068  5115\n",
      "1           211   438   649\n",
      "All        4258  1506  5764\n",
      "[CV 4/5] END .................C=1, solver=lbfgs;, score=0.406 total time=   0.5s\n",
      "Confusion Matrix on Cross Validation Set\n",
      "Predicted     0     1   All\n",
      "Actual                     \n",
      "0          4066  1049  5115\n",
      "1           212   437   649\n",
      "All        4278  1486  5764\n",
      "[CV 5/5] END .................C=1, solver=lbfgs;, score=0.409 total time=   0.4s\n"
     ]
    },
    {
     "data": {
      "text/plain": [
       "GridSearchCV(estimator=LogisticRegression(class_weight='balanced',\n",
       "                                          max_iter=1000),\n",
       "             param_grid={'C': [0.001, 0.01, 0.1, 1],\n",
       "                         'solver': ['liblinear', 'lbfgs']},\n",
       "             scoring=make_scorer(my_custom_loss_func), verbose=3)"
      ]
     },
     "execution_count": 22,
     "metadata": {},
     "output_type": "execute_result"
    }
   ],
   "source": [
    "def my_custom_loss_func(y_true, y_pred):\n",
    "    print('Confusion Matrix on Cross Validation Set')\n",
    "    print(pd.crosstab(y_true,y_pred,rownames=['Actual'],colnames=['Predicted'],margins=True))\n",
    "    return f1_score(y_true,y_pred)\n",
    "\n",
    "parameters = {'solver':['liblinear','lbfgs'],\n",
    "             \"C\":[0.001, 0.01,0.1,1]}\n",
    "mod_log= LogisticRegression(max_iter=1000,class_weight='balanced')\n",
    "clf= GridSearchCV(mod_log,parameters,verbose=3,scoring=make_scorer(my_custom_loss_func,greater_is_better=True))\n",
    "clf.fit(X_train,y_train)"
   ]
  },
  {
   "cell_type": "markdown",
   "metadata": {},
   "source": [
    "* Accuracy of best model obtained by gridsearch"
   ]
  },
  {
   "cell_type": "code",
   "execution_count": 23,
   "metadata": {},
   "outputs": [
    {
     "name": "stdout",
     "output_type": "stream",
     "text": [
      "Accuracy_Score 0.7790010523759411\n",
      "Confusion Matrix\n",
      "Predicted     0     1    All\n",
      "Actual                      \n",
      "0          8653  2308  10961\n",
      "1           422   970   1392\n",
      "All        9075  3278  12353\n",
      "Classification Report\n",
      "              precision    recall  f1-score   support\n",
      "\n",
      "           0       0.95      0.79      0.86     10961\n",
      "           1       0.30      0.70      0.42      1392\n",
      "\n",
      "    accuracy                           0.78     12353\n",
      "   macro avg       0.62      0.74      0.64     12353\n",
      "weighted avg       0.88      0.78      0.81     12353\n",
      "\n"
     ]
    }
   ],
   "source": [
    "print_metrics_by_model(clf.best_estimator_,X_test,y_test)"
   ]
  },
  {
   "cell_type": "markdown",
   "metadata": {},
   "source": [
    "### SGD Classifier"
   ]
  },
  {
   "cell_type": "code",
   "execution_count": 24,
   "metadata": {},
   "outputs": [
    {
     "name": "stdout",
     "output_type": "stream",
     "text": [
      "Accuracy_Score 0.8725815591354327\n",
      "Confusion Matrix\n",
      "Predicted      0     1    All\n",
      "Actual                       \n",
      "0          10060   901  10961\n",
      "1            673   719   1392\n",
      "All        10733  1620  12353\n",
      "Classification Report\n",
      "              precision    recall  f1-score   support\n",
      "\n",
      "           0       0.94      0.92      0.93     10961\n",
      "           1       0.44      0.52      0.48      1392\n",
      "\n",
      "    accuracy                           0.87     12353\n",
      "   macro avg       0.69      0.72      0.70     12353\n",
      "weighted avg       0.88      0.87      0.88     12353\n",
      "\n"
     ]
    }
   ],
   "source": [
    "from sklearn.linear_model import SGDClassifier\n",
    "mod_sgd=SGDClassifier(max_iter=1000, tol=1e-3, random_state=42,)\n",
    "mod_sgd.fit(X_train,y_train)\n",
    "print_metrics_by_model(mod_sgd,X_test,y_test)"
   ]
  },
  {
   "cell_type": "markdown",
   "metadata": {},
   "source": [
    "### K-Nearest Neighbors "
   ]
  },
  {
   "cell_type": "code",
   "execution_count": 25,
   "metadata": {},
   "outputs": [
    {
     "name": "stdout",
     "output_type": "stream",
     "text": [
      "Accuracy_Score 0.882376750586902\n",
      "Confusion Matrix\n",
      "Predicted      0    1    All\n",
      "Actual                      \n",
      "0          10475  486  10961\n",
      "1            967  425   1392\n",
      "All        11442  911  12353\n",
      "Classification Report\n",
      "              precision    recall  f1-score   support\n",
      "\n",
      "           0       0.92      0.96      0.94     10961\n",
      "           1       0.47      0.31      0.37      1392\n",
      "\n",
      "    accuracy                           0.88     12353\n",
      "   macro avg       0.69      0.63      0.65     12353\n",
      "weighted avg       0.86      0.88      0.87     12353\n",
      "\n"
     ]
    }
   ],
   "source": [
    "from sklearn.neighbors import KNeighborsClassifier\n",
    "mod_knn=KNeighborsClassifier(weights='distance', n_neighbors=4)\n",
    "mod_knn.fit(X_train,y_train)\n",
    "print_metrics_by_model(mod_knn, X_test,y_test)"
   ]
  },
  {
   "cell_type": "markdown",
   "metadata": {},
   "source": [
    "### Decision Tree "
   ]
  },
  {
   "cell_type": "code",
   "execution_count": 41,
   "metadata": {},
   "outputs": [
    {
     "name": "stdout",
     "output_type": "stream",
     "text": [
      "Accuracy_Score 0.8729863191127661\n",
      "Confusion Matrix\n",
      "Predicted      0     1    All\n",
      "Actual                       \n",
      "0          10368   593  10961\n",
      "1            976   416   1392\n",
      "All        11344  1009  12353\n",
      "Classification Report\n",
      "              precision    recall  f1-score   support\n",
      "\n",
      "           0       0.91      0.95      0.93     10961\n",
      "           1       0.41      0.30      0.35      1392\n",
      "\n",
      "    accuracy                           0.87     12353\n",
      "   macro avg       0.66      0.62      0.64     12353\n",
      "weighted avg       0.86      0.87      0.86     12353\n",
      "\n",
      "Feature Importances\n"
     ]
    },
    {
     "data": {
      "text/html": [
       "<div>\n",
       "<style scoped>\n",
       "    .dataframe tbody tr th:only-of-type {\n",
       "        vertical-align: middle;\n",
       "    }\n",
       "\n",
       "    .dataframe tbody tr th {\n",
       "        vertical-align: top;\n",
       "    }\n",
       "\n",
       "    .dataframe thead th {\n",
       "        text-align: right;\n",
       "    }\n",
       "</style>\n",
       "<table border=\"1\" class=\"dataframe\">\n",
       "  <thead>\n",
       "    <tr style=\"text-align: right;\">\n",
       "      <th></th>\n",
       "      <th>Feature_Name</th>\n",
       "      <th>Feature Importances</th>\n",
       "    </tr>\n",
       "  </thead>\n",
       "  <tbody>\n",
       "    <tr>\n",
       "      <th>11</th>\n",
       "      <td>age</td>\n",
       "      <td>0.275434</td>\n",
       "    </tr>\n",
       "    <tr>\n",
       "      <th>13</th>\n",
       "      <td>pdays</td>\n",
       "      <td>0.172115</td>\n",
       "    </tr>\n",
       "    <tr>\n",
       "      <th>12</th>\n",
       "      <td>campaign</td>\n",
       "      <td>0.135202</td>\n",
       "    </tr>\n",
       "    <tr>\n",
       "      <th>16</th>\n",
       "      <td>cons.conf.idx</td>\n",
       "      <td>0.104666</td>\n",
       "    </tr>\n",
       "    <tr>\n",
       "      <th>0</th>\n",
       "      <td>job</td>\n",
       "      <td>0.086521</td>\n",
       "    </tr>\n",
       "    <tr>\n",
       "      <th>15</th>\n",
       "      <td>emp.var.rate</td>\n",
       "      <td>0.074149</td>\n",
       "    </tr>\n",
       "    <tr>\n",
       "      <th>2</th>\n",
       "      <td>marital_married</td>\n",
       "      <td>0.052229</td>\n",
       "    </tr>\n",
       "    <tr>\n",
       "      <th>1</th>\n",
       "      <td>month</td>\n",
       "      <td>0.024806</td>\n",
       "    </tr>\n",
       "    <tr>\n",
       "      <th>14</th>\n",
       "      <td>previous</td>\n",
       "      <td>0.020517</td>\n",
       "    </tr>\n",
       "    <tr>\n",
       "      <th>3</th>\n",
       "      <td>default_no</td>\n",
       "      <td>0.013863</td>\n",
       "    </tr>\n",
       "    <tr>\n",
       "      <th>4</th>\n",
       "      <td>default_unknown</td>\n",
       "      <td>0.013051</td>\n",
       "    </tr>\n",
       "    <tr>\n",
       "      <th>7</th>\n",
       "      <td>contact_telephone</td>\n",
       "      <td>0.01054</td>\n",
       "    </tr>\n",
       "    <tr>\n",
       "      <th>8</th>\n",
       "      <td>poutcome_failure</td>\n",
       "      <td>0.006862</td>\n",
       "    </tr>\n",
       "    <tr>\n",
       "      <th>9</th>\n",
       "      <td>poutcome_nonexistent</td>\n",
       "      <td>0.004341</td>\n",
       "    </tr>\n",
       "    <tr>\n",
       "      <th>6</th>\n",
       "      <td>contact_cellular</td>\n",
       "      <td>0.004034</td>\n",
       "    </tr>\n",
       "    <tr>\n",
       "      <th>10</th>\n",
       "      <td>poutcome_success</td>\n",
       "      <td>0.001668</td>\n",
       "    </tr>\n",
       "    <tr>\n",
       "      <th>5</th>\n",
       "      <td>default_yes</td>\n",
       "      <td>0.0</td>\n",
       "    </tr>\n",
       "  </tbody>\n",
       "</table>\n",
       "</div>"
      ],
      "text/plain": [
       "            Feature_Name Feature Importances\n",
       "11                   age            0.275434\n",
       "13                 pdays            0.172115\n",
       "12              campaign            0.135202\n",
       "16         cons.conf.idx            0.104666\n",
       "0                    job            0.086521\n",
       "15          emp.var.rate            0.074149\n",
       "2        marital_married            0.052229\n",
       "1                  month            0.024806\n",
       "14              previous            0.020517\n",
       "3             default_no            0.013863\n",
       "4        default_unknown            0.013051\n",
       "7      contact_telephone             0.01054\n",
       "8       poutcome_failure            0.006862\n",
       "9   poutcome_nonexistent            0.004341\n",
       "6       contact_cellular            0.004034\n",
       "10      poutcome_success            0.001668\n",
       "5            default_yes                 0.0"
      ]
     },
     "execution_count": 41,
     "metadata": {},
     "output_type": "execute_result"
    }
   ],
   "source": [
    "def print_feature_importances(model):\n",
    "    print('Feature Importances')\n",
    "    return pd.DataFrame(np.c_[model.feature_names_in_,model.feature_importances_],\n",
    "                columns=['Feature_Name', 'Feature Importances']).sort_values('Feature Importances',ascending=False)\n",
    "\n",
    "mod_tree=DecisionTreeClassifier()\n",
    "mod_tree.fit(X_train,y_train)\n",
    "print_metrics_by_model(mod_tree, X_test,y_test)\n",
    "print_feature_importances(mod_tree)"
   ]
  },
  {
   "cell_type": "code",
   "execution_count": 42,
   "metadata": {},
   "outputs": [
    {
     "name": "stdout",
     "output_type": "stream",
     "text": [
      "Accuracy_Score 0.8372055371164899\n",
      "Confusion Matrix\n",
      "Predicted      0     1    All\n",
      "Actual                       \n",
      "0           9850  1111  10961\n",
      "1            900   492   1392\n",
      "All        10750  1603  12353\n",
      "Classification Report\n",
      "              precision    recall  f1-score   support\n",
      "\n",
      "           0       0.92      0.90      0.91     10961\n",
      "           1       0.31      0.35      0.33      1392\n",
      "\n",
      "    accuracy                           0.84     12353\n",
      "   macro avg       0.61      0.63      0.62     12353\n",
      "weighted avg       0.85      0.84      0.84     12353\n",
      "\n",
      "Feature Importances\n"
     ]
    },
    {
     "data": {
      "text/html": [
       "<div>\n",
       "<style scoped>\n",
       "    .dataframe tbody tr th:only-of-type {\n",
       "        vertical-align: middle;\n",
       "    }\n",
       "\n",
       "    .dataframe tbody tr th {\n",
       "        vertical-align: top;\n",
       "    }\n",
       "\n",
       "    .dataframe thead th {\n",
       "        text-align: right;\n",
       "    }\n",
       "</style>\n",
       "<table border=\"1\" class=\"dataframe\">\n",
       "  <thead>\n",
       "    <tr style=\"text-align: right;\">\n",
       "      <th></th>\n",
       "      <th>Feature_Name</th>\n",
       "      <th>Feature Importances</th>\n",
       "    </tr>\n",
       "  </thead>\n",
       "  <tbody>\n",
       "    <tr>\n",
       "      <th>11</th>\n",
       "      <td>age</td>\n",
       "      <td>0.382654</td>\n",
       "    </tr>\n",
       "    <tr>\n",
       "      <th>12</th>\n",
       "      <td>campaign</td>\n",
       "      <td>0.134654</td>\n",
       "    </tr>\n",
       "    <tr>\n",
       "      <th>15</th>\n",
       "      <td>emp.var.rate</td>\n",
       "      <td>0.122998</td>\n",
       "    </tr>\n",
       "    <tr>\n",
       "      <th>16</th>\n",
       "      <td>cons.conf.idx</td>\n",
       "      <td>0.079225</td>\n",
       "    </tr>\n",
       "    <tr>\n",
       "      <th>0</th>\n",
       "      <td>job</td>\n",
       "      <td>0.069237</td>\n",
       "    </tr>\n",
       "    <tr>\n",
       "      <th>1</th>\n",
       "      <td>month</td>\n",
       "      <td>0.050232</td>\n",
       "    </tr>\n",
       "    <tr>\n",
       "      <th>13</th>\n",
       "      <td>pdays</td>\n",
       "      <td>0.044669</td>\n",
       "    </tr>\n",
       "    <tr>\n",
       "      <th>2</th>\n",
       "      <td>marital_married</td>\n",
       "      <td>0.026313</td>\n",
       "    </tr>\n",
       "    <tr>\n",
       "      <th>10</th>\n",
       "      <td>poutcome_success</td>\n",
       "      <td>0.021053</td>\n",
       "    </tr>\n",
       "    <tr>\n",
       "      <th>14</th>\n",
       "      <td>previous</td>\n",
       "      <td>0.014061</td>\n",
       "    </tr>\n",
       "    <tr>\n",
       "      <th>7</th>\n",
       "      <td>contact_telephone</td>\n",
       "      <td>0.013696</td>\n",
       "    </tr>\n",
       "    <tr>\n",
       "      <th>6</th>\n",
       "      <td>contact_cellular</td>\n",
       "      <td>0.012716</td>\n",
       "    </tr>\n",
       "    <tr>\n",
       "      <th>3</th>\n",
       "      <td>default_no</td>\n",
       "      <td>0.008033</td>\n",
       "    </tr>\n",
       "    <tr>\n",
       "      <th>9</th>\n",
       "      <td>poutcome_nonexistent</td>\n",
       "      <td>0.007659</td>\n",
       "    </tr>\n",
       "    <tr>\n",
       "      <th>4</th>\n",
       "      <td>default_unknown</td>\n",
       "      <td>0.007221</td>\n",
       "    </tr>\n",
       "    <tr>\n",
       "      <th>8</th>\n",
       "      <td>poutcome_failure</td>\n",
       "      <td>0.00557</td>\n",
       "    </tr>\n",
       "    <tr>\n",
       "      <th>5</th>\n",
       "      <td>default_yes</td>\n",
       "      <td>0.00001</td>\n",
       "    </tr>\n",
       "  </tbody>\n",
       "</table>\n",
       "</div>"
      ],
      "text/plain": [
       "            Feature_Name Feature Importances\n",
       "11                   age            0.382654\n",
       "12              campaign            0.134654\n",
       "15          emp.var.rate            0.122998\n",
       "16         cons.conf.idx            0.079225\n",
       "0                    job            0.069237\n",
       "1                  month            0.050232\n",
       "13                 pdays            0.044669\n",
       "2        marital_married            0.026313\n",
       "10      poutcome_success            0.021053\n",
       "14              previous            0.014061\n",
       "7      contact_telephone            0.013696\n",
       "6       contact_cellular            0.012716\n",
       "3             default_no            0.008033\n",
       "9   poutcome_nonexistent            0.007659\n",
       "4        default_unknown            0.007221\n",
       "8       poutcome_failure             0.00557\n",
       "5            default_yes             0.00001"
      ]
     },
     "execution_count": 42,
     "metadata": {},
     "output_type": "execute_result"
    }
   ],
   "source": [
    "from sklearn.ensemble import RandomForestClassifier\n",
    "mod_forest=RandomForestClassifier(class_weight='balanced',n_estimators=150)\n",
    "mod_forest.fit(X_train,y_train)\n",
    "print_metrics_by_model(mod_forest,X_test,y_test)\n",
    "print_feature_importances(mod_forest)"
   ]
  },
  {
   "cell_type": "markdown",
   "metadata": {},
   "source": [
    "### Naive Baye's"
   ]
  },
  {
   "cell_type": "code",
   "execution_count": 43,
   "metadata": {},
   "outputs": [
    {
     "name": "stdout",
     "output_type": "stream",
     "text": [
      "Accuracy_Score 0.7985914352788797\n",
      "Confusion Matrix\n",
      "Predicted     0     1    All\n",
      "Actual                      \n",
      "0          9044  1917  10961\n",
      "1           571   821   1392\n",
      "All        9615  2738  12353\n",
      "Classification Report\n",
      "              precision    recall  f1-score   support\n",
      "\n",
      "           0       0.94      0.83      0.88     10961\n",
      "           1       0.30      0.59      0.40      1392\n",
      "\n",
      "    accuracy                           0.80     12353\n",
      "   macro avg       0.62      0.71      0.64     12353\n",
      "weighted avg       0.87      0.80      0.82     12353\n",
      "\n"
     ]
    }
   ],
   "source": [
    "from sklearn.naive_bayes import GaussianNB\n",
    "mod_nb= GaussianNB()\n",
    "mod_nb.fit(X_train,y_train)\n",
    "print_metrics_by_model(mod_nb, X_test,y_test)"
   ]
  },
  {
   "cell_type": "markdown",
   "metadata": {},
   "source": [
    "### Kernel Based SVM"
   ]
  },
  {
   "cell_type": "code",
   "execution_count": 46,
   "metadata": {},
   "outputs": [
    {
     "name": "stdout",
     "output_type": "stream",
     "text": [
      "Accuracy_Score 0.8199627620820853\n",
      "Confusion Matrix\n",
      "Predicted     0     1    All\n",
      "Actual                      \n",
      "0          9286  1675  10961\n",
      "1           549   843   1392\n",
      "All        9835  2518  12353\n",
      "Classification Report\n",
      "              precision    recall  f1-score   support\n",
      "\n",
      "           0       0.94      0.85      0.89     10961\n",
      "           1       0.33      0.61      0.43      1392\n",
      "\n",
      "    accuracy                           0.82     12353\n",
      "   macro avg       0.64      0.73      0.66     12353\n",
      "weighted avg       0.88      0.82      0.84     12353\n",
      "\n"
     ]
    }
   ],
   "source": [
    "best_model= SVC(kernel='rbf',class_weight='balanced',C=1, gamma=50)\n",
    "best_model.fit(X_train,y_train)\n",
    "print_metrics_by_model(best_model, X_test,y_test)"
   ]
  },
  {
   "cell_type": "markdown",
   "metadata": {},
   "source": [
    "### GridSearchCV "
   ]
  },
  {
   "cell_type": "code",
   "execution_count": null,
   "metadata": {},
   "outputs": [],
   "source": [
    "\n",
    "from sklearn.metrics import make_scorer\n",
    "def my_custom_loss_func(y_true, y_pred):\n",
    "    print(pd.crosstab(y_true,y_pred,rownames=['Actual'],colnames=['Predicted'],margins=True))\n",
    "    return f1_score(y_true,y_pred)\n",
    "\n",
    "parameters = {'C':[0.1,1,10],'gamma':[0.001,0.1,1,5],\n",
    "                'kernel':['linear', 'poly', 'rbf']}\n",
    "grid_svc= SVC(kernel='rbf',class_weight='balanced')\n",
    "clf= GridSearchCV(grid_svc,parameters,verbose=3,scoring=make_scorer(my_custom_loss_func,greater_is_better=True))\n",
    "clf.fit(X_train,y_train)"
   ]
  },
  {
   "cell_type": "code",
   "execution_count": null,
   "metadata": {},
   "outputs": [],
   "source": [
    "from xgboost import XGBClassifier\n",
    "mod_xgb= XGBClassifier(n_estimators= 1000,learning_rate=0.01, reg_alpha=1.5,\n",
    "                       booster='dart',\n",
    "                       scale_pos_weight=sum(y_train==0)/sum(y_train==1))\n",
    "mod_xgb.fit(X_train,y_train)\n",
    "print_metrics_by_model(mod_xgb,X_test,y_test)"
   ]
  },
  {
   "cell_type": "code",
   "execution_count": 47,
   "metadata": {},
   "outputs": [
    {
     "data": {
      "text/plain": [
       "0    10961\n",
       "1     1392\n",
       "Name: y, dtype: int64"
      ]
     },
     "execution_count": 47,
     "metadata": {},
     "output_type": "execute_result"
    }
   ],
   "source": [
    "y_test.value_counts()"
   ]
  },
  {
   "cell_type": "markdown",
   "metadata": {},
   "source": [
    "* From above we can see data is very imbalanced due to which\n",
    "Accuracy (recall for Positive Class is very less)\n",
    "* Hence in order to deal with class imbalanced we use oversampling technique\n",
    "called SMOTE [Synthetic Minority Oversampling Technique]"
   ]
  },
  {
   "cell_type": "code",
   "execution_count": null,
   "metadata": {},
   "outputs": [],
   "source": [
    "!pip install imblearn"
   ]
  },
  {
   "cell_type": "code",
   "execution_count": 80,
   "metadata": {},
   "outputs": [
    {
     "name": "stdout",
     "output_type": "stream",
     "text": [
      "(54805, 17) (54805,)\n"
     ]
    },
    {
     "data": {
      "text/plain": [
       "(0    36537\n",
       " 1     4639\n",
       " Name: y, dtype: int64,\n",
       " 0    36537\n",
       " 1    18268\n",
       " Name: y, dtype: int64)"
      ]
     },
     "execution_count": 80,
     "metadata": {},
     "output_type": "execute_result"
    }
   ],
   "source": [
    "from imblearn.over_sampling import SMOTE\n",
    "from imblearn.over_sampling import SVMSMOTE\n",
    "oversample = SVMSMOTE(sampling_strategy = 0.5)\n",
    "X,y= oversample.fit_resample(data_model.drop('y',axis=1), data_model['y'])\n",
    "print(X.shape,y.shape)\n",
    "data_model.y.value_counts(), y.value_counts()"
   ]
  },
  {
   "cell_type": "code",
   "execution_count": 81,
   "metadata": {},
   "outputs": [
    {
     "name": "stdout",
     "output_type": "stream",
     "text": [
      "Train Data (38363, 17) (38363,)\n",
      "Test Data (16442, 17) (16442,)\n"
     ]
    }
   ],
   "source": [
    "X_train, X_test, y_train, y_test=train_test_split(X, y,test_size=0.3,\n",
    "                                                  stratify=y,random_state=42)\n",
    "print('Train Data',X_train.shape,y_train.shape)\n",
    "print('Test Data',X_test.shape,y_test.shape)"
   ]
  },
  {
   "cell_type": "code",
   "execution_count": 84,
   "metadata": {},
   "outputs": [
    {
     "name": "stdout",
     "output_type": "stream",
     "text": [
      "Before Oversampling..\n",
      "0    36537\n",
      "1     4639\n",
      "Name: y, dtype: int64\n",
      "After Oversampling..\n",
      "0    36537\n",
      "1    18268\n",
      "Name: y, dtype: int64\n"
     ]
    }
   ],
   "source": [
    "print('Before Oversampling..')\n",
    "print(data_model.y.value_counts())\n",
    "print('After Oversampling..')\n",
    "print(y.value_counts())"
   ]
  },
  {
   "cell_type": "markdown",
   "metadata": {},
   "source": [
    "### Logistic Regression on Oversampled Dataset"
   ]
  },
  {
   "cell_type": "code",
   "execution_count": 57,
   "metadata": {},
   "outputs": [
    {
     "name": "stdout",
     "output_type": "stream",
     "text": [
      "Accuracy_Score 0.8205814377812918\n",
      "Confusion Matrix\n",
      "Predicted      0     1    All\n",
      "Actual                       \n",
      "0           9298  1663  10961\n",
      "1           1287  4194   5481\n",
      "All        10585  5857  16442\n",
      "Classification Report\n",
      "              precision    recall  f1-score   support\n",
      "\n",
      "           0       0.88      0.85      0.86     10961\n",
      "           1       0.72      0.77      0.74      5481\n",
      "\n",
      "    accuracy                           0.82     16442\n",
      "   macro avg       0.80      0.81      0.80     16442\n",
      "weighted avg       0.82      0.82      0.82     16442\n",
      "\n"
     ]
    }
   ],
   "source": [
    "mod_log= LogisticRegression(max_iter=1000,C=1.0, penalty='l1',class_weight='balanced',solver='liblinear')\n",
    "mod_log.fit(X_train,y_train)\n",
    "print_metrics_by_model(mod_log,X_test,y_test)"
   ]
  },
  {
   "cell_type": "markdown",
   "metadata": {},
   "source": [
    "### Random Forest "
   ]
  },
  {
   "cell_type": "code",
   "execution_count": 85,
   "metadata": {},
   "outputs": [
    {
     "name": "stdout",
     "output_type": "stream",
     "text": [
      "Accuracy_Score 0.8629728743461866\n",
      "Confusion Matrix\n",
      "Predicted      0     1    All\n",
      "Actual                       \n",
      "0          10124   837  10961\n",
      "1           1416  4065   5481\n",
      "All        11540  4902  16442\n",
      "Classification Report\n",
      "              precision    recall  f1-score   support\n",
      "\n",
      "           0       0.88      0.92      0.90     10961\n",
      "           1       0.83      0.74      0.78      5481\n",
      "\n",
      "    accuracy                           0.86     16442\n",
      "   macro avg       0.85      0.83      0.84     16442\n",
      "weighted avg       0.86      0.86      0.86     16442\n",
      "\n"
     ]
    }
   ],
   "source": [
    "from sklearn.ensemble import RandomForestClassifier\n",
    "mod_forest=RandomForestClassifier()\n",
    "mod_forest.fit(X_train,y_train)\n",
    "print_metrics_by_model(mod_forest,X_test,y_test)"
   ]
  },
  {
   "cell_type": "code",
   "execution_count": 86,
   "metadata": {},
   "outputs": [
    {
     "name": "stderr",
     "output_type": "stream",
     "text": [
      "c:\\users\\dell\\downloads\\venv\\lib\\site-packages\\xgboost\\sklearn.py:1224: UserWarning: The use of label encoder in XGBClassifier is deprecated and will be removed in a future release. To remove this warning, do the following: 1) Pass option use_label_encoder=False when constructing XGBClassifier object; and 2) Encode your labels (y) as integers starting with 0, i.e. 0, 1, 2, ..., [num_class - 1].\n",
      "  warnings.warn(label_encoder_deprecation_msg, UserWarning)\n"
     ]
    },
    {
     "name": "stdout",
     "output_type": "stream",
     "text": [
      "[03:30:50] WARNING: C:/Users/Administrator/workspace/xgboost-win64_release_1.5.1/src/learner.cc:1115: Starting in XGBoost 1.3.0, the default evaluation metric used with the objective 'binary:logistic' was changed from 'error' to 'logloss'. Explicitly set eval_metric if you'd like to restore the old behavior.\n",
      "Accuracy_Score 0.9067023476462718\n",
      "Confusion Matrix\n",
      "Predicted      0     1    All\n",
      "Actual                       \n",
      "0          10256   705  10961\n",
      "1            829  4652   5481\n",
      "All        11085  5357  16442\n",
      "Classification Report\n",
      "              precision    recall  f1-score   support\n",
      "\n",
      "           0       0.93      0.94      0.93     10961\n",
      "           1       0.87      0.85      0.86      5481\n",
      "\n",
      "    accuracy                           0.91     16442\n",
      "   macro avg       0.90      0.89      0.89     16442\n",
      "weighted avg       0.91      0.91      0.91     16442\n",
      "\n"
     ]
    }
   ],
   "source": [
    "from xgboost import XGBClassifier\n",
    "mod_xgb= XGBClassifier(scale_pos_weight=sum(y_train==0)/sum(y_train==1))#scale_pos_weight=sum(y_train==0)/sum(y_train==1)\n",
    "mod_xgb.fit(X_train,y_train)\n",
    "print_metrics_by_model(mod_xgb,X_test,y_test)"
   ]
  },
  {
   "cell_type": "markdown",
   "metadata": {},
   "source": [
    "#### By using Oversampling technique, F1_score for Positive class has increased from 0.42 to 0.86. "
   ]
  },
  {
   "cell_type": "code",
   "execution_count": null,
   "metadata": {},
   "outputs": [],
   "source": []
  }
 ],
 "metadata": {
  "kernelspec": {
   "display_name": "Python 3",
   "language": "python",
   "name": "python3"
  },
  "language_info": {
   "codemirror_mode": {
    "name": "ipython",
    "version": 3
   },
   "file_extension": ".py",
   "mimetype": "text/x-python",
   "name": "python",
   "nbconvert_exporter": "python",
   "pygments_lexer": "ipython3",
   "version": "3.8.5"
  }
 },
 "nbformat": 4,
 "nbformat_minor": 5
}
